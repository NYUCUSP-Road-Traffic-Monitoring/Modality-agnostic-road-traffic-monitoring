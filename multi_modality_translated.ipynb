{
 "cells": [
  {
   "cell_type": "code",
   "execution_count": null,
   "source": [
    "import numpy as np\n",
    "import pandas as pd\n",
    "from sklearn.decomposition import PCA\n",
    "from sklearn import preprocessing\n",
    "from sklearn.preprocessing import LabelEncoder\n",
    "import matplotlib.pyplot as plt\n",
    "from sklearn.model_selection import train_test_split\n",
    "from sklearn.ensemble import RandomForestClassifier\n",
    "from sklearn.model_selection import RandomizedSearchCV\n",
    "import matplotlib.pyplot as plt\n",
    "from sklearn.metrics import plot_confusion_matrix\n",
    "from sklearn.metrics import precision_recall_curve\n",
    "from sklearn.metrics import average_precision_score\n",
    "from itertools import cycle\n",
    "from sklearn.metrics import classification_report\n",
    "from sklearn.svm import SVC"
   ],
   "outputs": [],
   "metadata": {}
  },
  {
   "cell_type": "markdown",
   "source": [
    "### Load features and labels"
   ],
   "metadata": {}
  },
  {
   "cell_type": "code",
   "execution_count": null,
   "source": [
    "# Be careful with your features, you may need reshape\n",
    "features1 = np.load(\"./translated_embeddings/resnet.npy\") # video\n",
    "features2 = np.load(\"./translated_embeddings/yamnet.npy\") # audio\n",
    "labels = pd.read_csv(\"annotations.csv\")"
   ],
   "outputs": [],
   "metadata": {}
  },
  {
   "cell_type": "markdown",
   "source": [
    "### Classify count of all kinds of cars"
   ],
   "metadata": {}
  },
  {
   "cell_type": "code",
   "execution_count": null,
   "source": [
    "def get_count_label(num):\n",
    "    if num == 0:\n",
    "        return \"free\"\n",
    "    if num < 3:\n",
    "        return \"few\"\n",
    "    if num < 6:\n",
    "        return \"medium\"\n",
    "    return \"busy\""
   ],
   "outputs": [],
   "metadata": {}
  },
  {
   "cell_type": "code",
   "execution_count": null,
   "source": [
    "labelencoder = LabelEncoder()\n",
    "labels[\"total_encoder\"] = labelencoder.fit_transform(labels[\"total\"].apply(get_count_label))\n",
    "labelencoder.classes_"
   ],
   "outputs": [],
   "metadata": {}
  },
  {
   "cell_type": "markdown",
   "source": [
    "## concatenate video with different amount of audio"
   ],
   "metadata": {}
  },
  {
   "cell_type": "code",
   "execution_count": null,
   "source": [
    "X_train, X_test, y_train, y_test = train_test_split(dataP1, labels[\"total_encoder\"], test_size=0.2, random_state=42)\n",
    "numOfSamples = [0, 100, 200, 500, 1000, 1500, 2000, 3000, 4000, 5076]"
   ],
   "outputs": [],
   "metadata": {}
  },
  {
   "cell_type": "markdown",
   "source": [
    "### Random Forest"
   ],
   "metadata": {}
  },
  {
   "cell_type": "code",
   "execution_count": null,
   "source": [
    "def evaluate(model, test_features, test_labels, labels):\n",
    "    print(\"accuracy:\", model.score(test_features, test_labels))\n",
    "    fig, (ax1, ax2) = plt.subplots(1, 2, figsize=(16, 8))\n",
    "    disp = plot_confusion_matrix(model, X_valid, y_valid,\n",
    "                             display_labels=labelencoder.classes_,\n",
    "                             cmap=plt.cm.Blues,\n",
    "                             normalize=\"true\", ax=ax1)\n",
    "\n",
    "    print(disp.confusion_matrix)\n",
    "    \n",
    "    y_score = model.predict_proba(test_features)\n",
    "    \n",
    "\n",
    "    # For each class\n",
    "    precision = dict()\n",
    "    recall = dict()\n",
    "    average_precision = dict()\n",
    "    for i in range(len(labels)):\n",
    "        precision[i], recall[i], _ = precision_recall_curve(test_labels.apply(lambda x: 1 if x==i else 0),\n",
    "                                                            y_score[:, i])\n",
    "        average_precision[i] = average_precision_score(test_labels.apply(lambda x: 1 if x==i else 0),\n",
    "                                                            y_score[:, i])\n",
    "    \n",
    "    colors = cycle(['navy', 'turquoise', 'darkorange', 'cornflowerblue'])\n",
    "\n",
    "    lines = []\n",
    "    classes = []\n",
    "    \n",
    "    for i, color in zip(range(len(labels)), colors):\n",
    "        l, = plt.plot(recall[i], precision[i], color=color, lw=2)\n",
    "        lines.append(l)\n",
    "        classes.append('Precision-recall for class {0} (area = {1:0.2f})'\n",
    "                      ''.format(labels[i], average_precision[i]))\n",
    "        \n",
    "\n",
    "    ax2.set_xlim([0.0, 1.0])\n",
    "    ax2.set_ylim([0.0, 1.05])\n",
    "    ax2.set_xlabel('Recall')\n",
    "    ax2.set_ylabel('Precision')\n",
    "    ax2.set_title('Extension of Precision-Recall curve to multi-class')\n",
    "    ax2.legend(lines, classes, loc=(0, -.38), prop=dict(size=14))\n",
    "    \n",
    "    plt.show()\n",
    "\n",
    "    return model.score(test_features, test_labels)"
   ],
   "outputs": [],
   "metadata": {}
  },
  {
   "cell_type": "code",
   "execution_count": null,
   "source": [
    "# Number of trees in random forest\n",
    "n_estimators = [int(x) for x in np.linspace(start = 200, stop = 2000, num = 10)]\n",
    "# Number of features to consider at every split\n",
    "max_features = ['auto', 'sqrt']\n",
    "# Maximum number of levels in tree\n",
    "max_depth = [int(x) for x in np.linspace(10, 100, num = 40)]\n",
    "# Minimum number of samples required to split a node\n",
    "min_samples_split = [2, 5, 10]\n",
    "# Minimum number of samples required at each leaf node\n",
    "# min_samples_leaf = [1, 2, 4]\n",
    "# Create the random grid\n",
    "random_grid = {'n_estimators': n_estimators,\n",
    "               'max_features': max_features,\n",
    "               'max_depth': max_depth,\n",
    "               'min_samples_split': min_samples_split}\n",
    "\n",
    "acc = {}\n",
    "\n",
    "for num in numOfSamples:\n",
    "    print(\"training samples from audio: \", num)\n",
    "    if num > 0:\n",
    "        X_combine_train = np.concatenate((X_train[:num, :], dataP2), axis=0)\n",
    "        y_combine_train = np.concatenate((y_train[:num],filtered_labels[\"total_encoder\"]), axis=0)\n",
    "    else:\n",
    "        X_combine_train = dataP2\n",
    "        y_combine_train = filtered_labels[\"total_encoder\"]\n",
    "\n",
    "    random_forest_clf = RandomForestClassifier(random_state=42)\n",
    "    rf_random = RandomizedSearchCV(estimator = random_forest_clf, param_distributions = random_grid, n_iter = 20, cv = 3, verbose=2, random_state=42, n_jobs = -1)\n",
    "    rf_random.fit(X_combine_train, y_combine_train)\n",
    "    print(rf_random.best_params_)\n",
    "    best_random = rf_random.best_estimator_\n",
    "    random_accuracy = evaluate(best_random, X_test, y_test, labelencoder.classes_)\n",
    "    acc[num] = random_accuracy\n",
    "    acc_range[num] = rf_random.cv_results_\n",
    "\n",
    "print(acc)"
   ],
   "outputs": [],
   "metadata": {}
  },
  {
   "cell_type": "markdown",
   "source": [
    "### SVM"
   ],
   "metadata": {}
  },
  {
   "cell_type": "code",
   "execution_count": null,
   "source": [
    "def evaluate_svm(model, test_features, test_labels, labels):\n",
    "    print(\"accuracy:\", model.score(test_features, test_labels))\n",
    "    fig, (ax1, ax2) = plt.subplots(1, 2, figsize=(16, 8))\n",
    "    disp = plot_confusion_matrix(model, X_valid, y_valid,\n",
    "                             display_labels=labelencoder.classes_,\n",
    "                             cmap=plt.cm.Blues,\n",
    "                             normalize=\"true\", ax=ax1)\n",
    "\n",
    "    print(disp.confusion_matrix)\n",
    "    \n",
    "    y_score = model.decision_function(test_features)\n",
    "    \n",
    "\n",
    "    # For each class\n",
    "    precision = dict()\n",
    "    recall = dict()\n",
    "    average_precision = dict()\n",
    "    for i in range(len(labels)):\n",
    "        precision[i], recall[i], _ = precision_recall_curve(test_labels.apply(lambda x: 1 if x==i else 0),\n",
    "                                                            y_score[:, i])\n",
    "        average_precision[i] = average_precision_score(test_labels.apply(lambda x: 1 if x==i else 0),\n",
    "                                                            y_score[:, i])\n",
    "    \n",
    "    colors = cycle(['navy', 'turquoise', 'darkorange', 'cornflowerblue'])\n",
    "\n",
    "    lines = []\n",
    "    classes = []\n",
    "    \n",
    "    for i, color in zip(range(len(labels)), colors):\n",
    "        l, = plt.plot(recall[i], precision[i], color=color, lw=2)\n",
    "        lines.append(l)\n",
    "        classes.append('Precision-recall for class {0} (area = {1:0.2f})'\n",
    "                      ''.format(labels[i], average_precision[i]))\n",
    "        \n",
    "\n",
    "    ax2.set_xlim([0.0, 1.0])\n",
    "    ax2.set_ylim([0.0, 1.05])\n",
    "    ax2.set_xlabel('Recall')\n",
    "    ax2.set_ylabel('Precision')\n",
    "    ax2.set_title('Extension of Precision-Recall curve to multi-class')\n",
    "    ax2.legend(lines, classes, loc=(0, -.38), prop=dict(size=14))\n",
    "    \n",
    "    plt.show()\n",
    "\n",
    "    return model.score(test_features, test_labels)"
   ],
   "outputs": [],
   "metadata": {}
  },
  {
   "cell_type": "code",
   "execution_count": null,
   "source": [
    "acc = {}\n",
    "\n",
    "for num in numOfSamples:\n",
    "    print(\"training samples from audio: \", num)\n",
    "    if num > 0:\n",
    "        X_combine_train = np.concatenate((X_train[:num, :], dataP2), axis=0)\n",
    "        y_combine_train = np.concatenate((y_train[:num],labels[\"total_encoder\"]), axis=0)\n",
    "    else:\n",
    "        X_combine_train = dataP2\n",
    "        y_combine_train = labels[\"total_encoder\"]\n",
    "\n",
    "    clf = SVC(kernel=\"linear\", decision_function_shape=\"ovo\", random_state=42)\n",
    "    clf.fit(X_combine_train, y_combine_train)\n",
    "    random_accuracy = evaluate_svm(clf, X_test, y_test, labelencoder.classes_)\n",
    "    acc[num] = random_accuracy\n",
    "\n",
    "print(acc)"
   ],
   "outputs": [],
   "metadata": {}
  },
  {
   "cell_type": "markdown",
   "source": [
    "## concatenate audio with different amout of video"
   ],
   "metadata": {}
  },
  {
   "cell_type": "code",
   "execution_count": null,
   "source": [
    "X_train, X_test, y_train, y_test = train_test_split(dataP2, filtered_labels[\"total_encoder\"], test_size=0.2, random_state=42)"
   ],
   "outputs": [],
   "metadata": {}
  },
  {
   "cell_type": "markdown",
   "source": [
    "### Random Forest"
   ],
   "metadata": {}
  },
  {
   "cell_type": "code",
   "execution_count": null,
   "source": [
    "acc ={}\n",
    "\n",
    "for num in numOfSamples:\n",
    "    print(\"training samples from video: \", num)\n",
    "    if num > 0:\n",
    "        X_combine_train = np.concatenate((X_train[:num, :], dataP2), axis=0)\n",
    "        y_combine_train = np.concatenate((y_train[:num],labels[\"total_encoder\"]), axis=0)\n",
    "    else:\n",
    "        X_combine_train = dataP2\n",
    "        y_combine_train = labels[\"total_encoder\"]\n",
    "\n",
    "    random_forest_clf = RandomForestClassifier(random_state=42)\n",
    "    rf_random = RandomizedSearchCV(estimator = random_forest_clf, param_distributions = random_grid, n_iter = 20, cv = 3, verbose=2, random_state=42, n_jobs = -1)\n",
    "    rf_random.fit(X_combine_train, y_combine_train)\n",
    "    print(rf_random.best_params_)\n",
    "    best_random = rf_random.best_estimator_\n",
    "    random_accuracy = evaluate(best_random, X_test, y_test, labelencoder.classes_)\n",
    "    acc[num] = random_accuracy\n"
   ],
   "outputs": [],
   "metadata": {}
  },
  {
   "cell_type": "markdown",
   "source": [
    "### SVM"
   ],
   "metadata": {}
  },
  {
   "cell_type": "code",
   "execution_count": null,
   "source": [
    "acc = {}\n",
    "\n",
    "for num in numOfSamples:\n",
    "    print(\"training samples from video: \", num)\n",
    "    if num > 0:\n",
    "        X_combine_train = np.concatenate((X_train[:num, :], dataP2), axis=0)\n",
    "        y_combine_train = np.concatenate((y_train[:num],labels[\"total_encoder\"]), axis=0)\n",
    "    else:\n",
    "        X_combine_train = dataP2\n",
    "        y_combine_train = labels[\"total_encoder\"]\n",
    "\n",
    "    clf = SVC(kernel=\"linear\", decision_function_shape=\"ovo\", random_state=42)\n",
    "    clf.fit(X_combine_train, y_combine_train)\n",
    "    random_accuracy = evaluate_svm(clf, X_test, y_test, labelencoder.classes_)\n",
    "    acc[num] = random_accuracy\n",
    "\n",
    "print(acc)"
   ],
   "outputs": [],
   "metadata": {}
  }
 ],
 "metadata": {
  "orig_nbformat": 4,
  "language_info": {
   "name": "python"
  }
 },
 "nbformat": 4,
 "nbformat_minor": 2
}